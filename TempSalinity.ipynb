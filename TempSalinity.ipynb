{
 "cells": [
  {
   "cell_type": "markdown",
   "id": "715a8d26",
   "metadata": {
    "extensions": {
     "jupyter_dashboards": {
      "version": 1,
      "views": {
       "grid_default": {},
       "report_default": {
        "hidden": false
       }
      }
     }
    }
   },
   "source": [
    "<h1> <font color='red'> <center> CE 3105 Mechanics of Fluids Laboratory </center> </font> </h1>"
   ]
  },
  {
   "cell_type": "markdown",
   "id": "8a52ac79",
   "metadata": {
    "extensions": {
     "jupyter_dashboards": {
      "version": 1,
      "views": {
       "grid_default": {},
       "report_default": {
        "hidden": false
       }
      }
     }
    }
   },
   "source": [
    "<h2><center><font color='blue'> Temperature-Density Relationship </font></center></h2>"
   ]
  },
  {
   "cell_type": "markdown",
   "id": "3edfb24c",
   "metadata": {
    "extensions": {
     "jupyter_dashboards": {
      "version": 1,
      "views": {
       "grid_default": {},
       "report_default": {
        "hidden": false
       }
      }
     }
    }
   },
   "source": [
    "<center><h5>  Venki Uddameri, Ph.D., P.E. and E. Annette Hernandez, Ph.D., P.E. </h5></center>"
   ]
  },
  {
   "cell_type": "markdown",
   "id": "6b271d68",
   "metadata": {
    "extensions": {
     "jupyter_dashboards": {
      "version": 1,
      "views": {
       "grid_default": {},
       "report_default": {
        "hidden": false
       }
      }
     }
    }
   },
   "source": [
    "<hr> </hr>"
   ]
  },
  {
   "cell_type": "markdown",
   "id": "d9f19a78",
   "metadata": {
    "extensions": {
     "jupyter_dashboards": {
      "version": 1,
      "views": {
       "grid_default": {},
       "report_default": {
        "hidden": false
       }
      }
     }
    }
   },
   "source": [
    "<h4> What is Density? </h4>"
   ]
  },
  {
   "cell_type": "markdown",
   "id": "c703b50c",
   "metadata": {
    "extensions": {
     "jupyter_dashboards": {
      "version": 1,
      "views": {
       "grid_default": {},
       "report_default": {
        "hidden": false
       }
      }
     }
    }
   },
   "source": [
    "<p> Fluids do not have shapes of their own and assume the shape of the container they are in.  Therefore, we cannot state the mass of the fluid, without knowing its volume.  *Density* denotes the ratio of the mass of the fluid per unit volume of the fluid.  Therefore, the knowledge of density helps us quantify the mass of water, when the volume is known or vice-versa. "
   ]
  },
  {
   "cell_type": "markdown",
   "id": "3cd0a85d",
   "metadata": {
    "extensions": {
     "jupyter_dashboards": {
      "version": 1,
      "views": {
       "grid_default": {},
       "report_default": {
        "hidden": false
       }
      }
     }
    }
   },
   "source": [
    "Mathematically, \n",
    "\n",
    "<font color = 'blue'> $ \\rho = \\frac{M}{V}$ </font>\n",
    "\n",
    "Where, $\\rho$ is the density, M is the mass (kg) and V is the volume $(m^3)$"
   ]
  },
  {
   "cell_type": "markdown",
   "id": "67a43c22",
   "metadata": {
    "extensions": {
     "jupyter_dashboards": {
      "version": 1,
      "views": {
       "grid_default": {},
       "report_default": {
        "hidden": false
       }
      }
     }
    }
   },
   "source": [
    "<p>The measurement of density is fairly straightforward.  Simply take a known volume of water in a measuring jar and obtain the mass of water.  <font color='blue'>However, keep in mind that the measured density depends upon the <b>temperature</b>, <b>pressure</b> as well as <b>salinity</b> (a measure of dissolved salts) in the water. </font></p>\n",
    "        "
   ]
  },
  {
   "cell_type": "markdown",
   "id": "3e0af48d",
   "metadata": {
    "extensions": {
     "jupyter_dashboards": {
      "version": 1,
      "views": {
       "grid_default": {},
       "report_default": {
        "hidden": false
       }
      }
     }
    }
   },
   "source": [
    "<p><font color='red'> <center> We assume water is incompressible, which means the pressure exerted on the water does not affect its density </center></font></p>"
   ]
  },
  {
   "cell_type": "markdown",
   "id": "fc2fd24a",
   "metadata": {
    "extensions": {
     "jupyter_dashboards": {
      "version": 1,
      "views": {
       "grid_default": {},
       "report_default": {
        "hidden": false
       }
      }
     }
    }
   },
   "source": [
    "<h4> Density-Temperature Relationship for Water</h4>"
   ]
  },
  {
   "cell_type": "markdown",
   "id": "4c3d45e0",
   "metadata": {
    "extensions": {
     "jupyter_dashboards": {
      "version": 1,
      "views": {
       "grid_default": {},
       "report_default": {
        "hidden": false
       }
      }
     }
    }
   },
   "source": [
    "> The density of water actually increases as the temperature is increased from 0$^o C$ to ~4$^o C$.  When water is cooled from 4$^o C$ to 0$^o C$, the volume of water is controlled by the forces of attraction between H-O bonds (i.e., hydrogen in one water molecule with oxygen in another water molecule).  However, from 4$^o C$ onward the volume of water is controlled by O-O bonds (the oxygen in one molecule and the oxygen in another water molecule).  The H-O bond is the strongest at 4$^oC$ leading to smallest volume and hence the maximum density.  The O-H bond also allows for leakage (expansion) as the temperature is lowered to 0$^oC$, causing the density to be lowered.  On the other hand, as temperature increases from 4$^oC$ to a higher values, the molecular energy increases and leads to expansion of water and therefore a reduction it's density. \n",
    ">"
   ]
  },
  {
   "cell_type": "markdown",
   "id": "2aa2b1a2",
   "metadata": {
    "extensions": {
     "jupyter_dashboards": {
      "version": 1,
      "views": {
       "grid_default": {},
       "report_default": {
        "hidden": false
       }
      }
     }
    }
   },
   "source": [
    "<font color='blue'>There are many relationships established to find the density of pure water (no salts) as a function of temperature.  The code below presents a function to compute the density of water based on Kell in 1975<a href=\"#kell\">[1]</a> </font>  Note this model is not as accurate in the 0$^o C$ to ~4$^o C$ range but still provides reasonable results.  It's accuracy under ambient conditions that are typically encountered in civil engineering is extremely good. "
   ]
  },
  {
   "cell_type": "code",
   "execution_count": 12,
   "id": "c49123a0",
   "metadata": {
    "extensions": {
     "jupyter_dashboards": {
      "version": 1,
      "views": {
       "grid_default": {},
       "report_default": {
        "hidden": true
       }
      }
     }
    }
   },
   "outputs": [],
   "source": [
    "# Function to compute the density using temperature\n",
    "import numpy as np\n",
    "def denstemp(Temp):\n",
    "    \"\"\"Function to compute density based on \n",
    "    Kell Formula\n",
    "    Written by Venki Uddameri\n",
    "    temperature t is in degree C\"\"\"\n",
    "    t = Temp\n",
    "    A = 999.83952\n",
    "    B = +16.945176*t\n",
    "    C = -7.9870401E-3*t**2\n",
    "    D = -46.170461E-6*t**3 \n",
    "    E = 105.56302E-9*t**4\n",
    "    F = -280.54253E-12*t**5\n",
    "    Dnum = 1 + (16.897850E-3)*t\n",
    "    rhot = (A + B+C+D+E+F)/Dnum\n",
    "    rhot = np.round(rhot,3)\n",
    "    return(rhot)"
   ]
  },
  {
   "cell_type": "code",
   "execution_count": 13,
   "id": "65e54b70",
   "metadata": {
    "extensions": {
     "jupyter_dashboards": {
      "version": 1,
      "views": {
       "grid_default": {},
       "report_default": {
        "hidden": true
       }
      }
     }
    }
   },
   "outputs": [],
   "source": [
    "# compute density for a range of temperatures\n",
    "t = np.arange(0,50,0.1)\n",
    "rhot = denstemp(t)"
   ]
  },
  {
   "cell_type": "code",
   "execution_count": 19,
   "id": "c7e63f23",
   "metadata": {
    "extensions": {
     "jupyter_dashboards": {
      "version": 1,
      "views": {
       "grid_default": {},
       "report_default": {
        "hidden": false
       }
      }
     }
    },
    "scrolled": false
   },
   "outputs": [
    {
     "data": {
      "text/html": [
       "\n",
       "    <div class=\"bk-root\">\n",
       "        <a href=\"https://bokeh.org\" target=\"_blank\" class=\"bk-logo bk-logo-small bk-logo-notebook\"></a>\n",
       "        <span id=\"2024\">Loading BokehJS ...</span>\n",
       "    </div>"
      ]
     },
     "metadata": {},
     "output_type": "display_data"
    },
    {
     "data": {
      "application/javascript": [
       "\n",
       "(function(root) {\n",
       "  function now() {\n",
       "    return new Date();\n",
       "  }\n",
       "\n",
       "  const force = true;\n",
       "\n",
       "  if (typeof root._bokeh_onload_callbacks === \"undefined\" || force === true) {\n",
       "    root._bokeh_onload_callbacks = [];\n",
       "    root._bokeh_is_loading = undefined;\n",
       "  }\n",
       "\n",
       "  const JS_MIME_TYPE = 'application/javascript';\n",
       "  const HTML_MIME_TYPE = 'text/html';\n",
       "  const EXEC_MIME_TYPE = 'application/vnd.bokehjs_exec.v0+json';\n",
       "  const CLASS_NAME = 'output_bokeh rendered_html';\n",
       "\n",
       "  /**\n",
       "   * Render data to the DOM node\n",
       "   */\n",
       "  function render(props, node) {\n",
       "    const script = document.createElement(\"script\");\n",
       "    node.appendChild(script);\n",
       "  }\n",
       "\n",
       "  /**\n",
       "   * Handle when an output is cleared or removed\n",
       "   */\n",
       "  function handleClearOutput(event, handle) {\n",
       "    const cell = handle.cell;\n",
       "\n",
       "    const id = cell.output_area._bokeh_element_id;\n",
       "    const server_id = cell.output_area._bokeh_server_id;\n",
       "    // Clean up Bokeh references\n",
       "    if (id != null && id in Bokeh.index) {\n",
       "      Bokeh.index[id].model.document.clear();\n",
       "      delete Bokeh.index[id];\n",
       "    }\n",
       "\n",
       "    if (server_id !== undefined) {\n",
       "      // Clean up Bokeh references\n",
       "      const cmd_clean = \"from bokeh.io.state import curstate; print(curstate().uuid_to_server['\" + server_id + \"'].get_sessions()[0].document.roots[0]._id)\";\n",
       "      cell.notebook.kernel.execute(cmd_clean, {\n",
       "        iopub: {\n",
       "          output: function(msg) {\n",
       "            const id = msg.content.text.trim();\n",
       "            if (id in Bokeh.index) {\n",
       "              Bokeh.index[id].model.document.clear();\n",
       "              delete Bokeh.index[id];\n",
       "            }\n",
       "          }\n",
       "        }\n",
       "      });\n",
       "      // Destroy server and session\n",
       "      const cmd_destroy = \"import bokeh.io.notebook as ion; ion.destroy_server('\" + server_id + \"')\";\n",
       "      cell.notebook.kernel.execute(cmd_destroy);\n",
       "    }\n",
       "  }\n",
       "\n",
       "  /**\n",
       "   * Handle when a new output is added\n",
       "   */\n",
       "  function handleAddOutput(event, handle) {\n",
       "    const output_area = handle.output_area;\n",
       "    const output = handle.output;\n",
       "\n",
       "    // limit handleAddOutput to display_data with EXEC_MIME_TYPE content only\n",
       "    if ((output.output_type != \"display_data\") || (!Object.prototype.hasOwnProperty.call(output.data, EXEC_MIME_TYPE))) {\n",
       "      return\n",
       "    }\n",
       "\n",
       "    const toinsert = output_area.element.find(\".\" + CLASS_NAME.split(' ')[0]);\n",
       "\n",
       "    if (output.metadata[EXEC_MIME_TYPE][\"id\"] !== undefined) {\n",
       "      toinsert[toinsert.length - 1].firstChild.textContent = output.data[JS_MIME_TYPE];\n",
       "      // store reference to embed id on output_area\n",
       "      output_area._bokeh_element_id = output.metadata[EXEC_MIME_TYPE][\"id\"];\n",
       "    }\n",
       "    if (output.metadata[EXEC_MIME_TYPE][\"server_id\"] !== undefined) {\n",
       "      const bk_div = document.createElement(\"div\");\n",
       "      bk_div.innerHTML = output.data[HTML_MIME_TYPE];\n",
       "      const script_attrs = bk_div.children[0].attributes;\n",
       "      for (let i = 0; i < script_attrs.length; i++) {\n",
       "        toinsert[toinsert.length - 1].firstChild.setAttribute(script_attrs[i].name, script_attrs[i].value);\n",
       "        toinsert[toinsert.length - 1].firstChild.textContent = bk_div.children[0].textContent\n",
       "      }\n",
       "      // store reference to server id on output_area\n",
       "      output_area._bokeh_server_id = output.metadata[EXEC_MIME_TYPE][\"server_id\"];\n",
       "    }\n",
       "  }\n",
       "\n",
       "  function register_renderer(events, OutputArea) {\n",
       "\n",
       "    function append_mime(data, metadata, element) {\n",
       "      // create a DOM node to render to\n",
       "      const toinsert = this.create_output_subarea(\n",
       "        metadata,\n",
       "        CLASS_NAME,\n",
       "        EXEC_MIME_TYPE\n",
       "      );\n",
       "      this.keyboard_manager.register_events(toinsert);\n",
       "      // Render to node\n",
       "      const props = {data: data, metadata: metadata[EXEC_MIME_TYPE]};\n",
       "      render(props, toinsert[toinsert.length - 1]);\n",
       "      element.append(toinsert);\n",
       "      return toinsert\n",
       "    }\n",
       "\n",
       "    /* Handle when an output is cleared or removed */\n",
       "    events.on('clear_output.CodeCell', handleClearOutput);\n",
       "    events.on('delete.Cell', handleClearOutput);\n",
       "\n",
       "    /* Handle when a new output is added */\n",
       "    events.on('output_added.OutputArea', handleAddOutput);\n",
       "\n",
       "    /**\n",
       "     * Register the mime type and append_mime function with output_area\n",
       "     */\n",
       "    OutputArea.prototype.register_mime_type(EXEC_MIME_TYPE, append_mime, {\n",
       "      /* Is output safe? */\n",
       "      safe: true,\n",
       "      /* Index of renderer in `output_area.display_order` */\n",
       "      index: 0\n",
       "    });\n",
       "  }\n",
       "\n",
       "  // register the mime type if in Jupyter Notebook environment and previously unregistered\n",
       "  if (root.Jupyter !== undefined) {\n",
       "    const events = require('base/js/events');\n",
       "    const OutputArea = require('notebook/js/outputarea').OutputArea;\n",
       "\n",
       "    if (OutputArea.prototype.mime_types().indexOf(EXEC_MIME_TYPE) == -1) {\n",
       "      register_renderer(events, OutputArea);\n",
       "    }\n",
       "  }\n",
       "\n",
       "  \n",
       "  if (typeof (root._bokeh_timeout) === \"undefined\" || force === true) {\n",
       "    root._bokeh_timeout = Date.now() + 5000;\n",
       "    root._bokeh_failed_load = false;\n",
       "  }\n",
       "\n",
       "  const NB_LOAD_WARNING = {'data': {'text/html':\n",
       "     \"<div style='background-color: #fdd'>\\n\"+\n",
       "     \"<p>\\n\"+\n",
       "     \"BokehJS does not appear to have successfully loaded. If loading BokehJS from CDN, this \\n\"+\n",
       "     \"may be due to a slow or bad network connection. Possible fixes:\\n\"+\n",
       "     \"</p>\\n\"+\n",
       "     \"<ul>\\n\"+\n",
       "     \"<li>re-rerun `output_notebook()` to attempt to load from CDN again, or</li>\\n\"+\n",
       "     \"<li>use INLINE resources instead, as so:</li>\\n\"+\n",
       "     \"</ul>\\n\"+\n",
       "     \"<code>\\n\"+\n",
       "     \"from bokeh.resources import INLINE\\n\"+\n",
       "     \"output_notebook(resources=INLINE)\\n\"+\n",
       "     \"</code>\\n\"+\n",
       "     \"</div>\"}};\n",
       "\n",
       "  function display_loaded() {\n",
       "    const el = document.getElementById(\"2024\");\n",
       "    if (el != null) {\n",
       "      el.textContent = \"BokehJS is loading...\";\n",
       "    }\n",
       "    if (root.Bokeh !== undefined) {\n",
       "      if (el != null) {\n",
       "        el.textContent = \"BokehJS \" + root.Bokeh.version + \" successfully loaded.\";\n",
       "      }\n",
       "    } else if (Date.now() < root._bokeh_timeout) {\n",
       "      setTimeout(display_loaded, 100)\n",
       "    }\n",
       "  }\n",
       "\n",
       "\n",
       "  function run_callbacks() {\n",
       "    try {\n",
       "      root._bokeh_onload_callbacks.forEach(function(callback) {\n",
       "        if (callback != null)\n",
       "          callback();\n",
       "      });\n",
       "    } finally {\n",
       "      delete root._bokeh_onload_callbacks\n",
       "    }\n",
       "    console.debug(\"Bokeh: all callbacks have finished\");\n",
       "  }\n",
       "\n",
       "  function load_libs(css_urls, js_urls, callback) {\n",
       "    if (css_urls == null) css_urls = [];\n",
       "    if (js_urls == null) js_urls = [];\n",
       "\n",
       "    root._bokeh_onload_callbacks.push(callback);\n",
       "    if (root._bokeh_is_loading > 0) {\n",
       "      console.debug(\"Bokeh: BokehJS is being loaded, scheduling callback at\", now());\n",
       "      return null;\n",
       "    }\n",
       "    if (js_urls == null || js_urls.length === 0) {\n",
       "      run_callbacks();\n",
       "      return null;\n",
       "    }\n",
       "    console.debug(\"Bokeh: BokehJS not loaded, scheduling load and callback at\", now());\n",
       "    root._bokeh_is_loading = css_urls.length + js_urls.length;\n",
       "\n",
       "    function on_load() {\n",
       "      root._bokeh_is_loading--;\n",
       "      if (root._bokeh_is_loading === 0) {\n",
       "        console.debug(\"Bokeh: all BokehJS libraries/stylesheets loaded\");\n",
       "        run_callbacks()\n",
       "      }\n",
       "    }\n",
       "\n",
       "    function on_error(url) {\n",
       "      console.error(\"failed to load \" + url);\n",
       "    }\n",
       "\n",
       "    for (let i = 0; i < css_urls.length; i++) {\n",
       "      const url = css_urls[i];\n",
       "      const element = document.createElement(\"link\");\n",
       "      element.onload = on_load;\n",
       "      element.onerror = on_error.bind(null, url);\n",
       "      element.rel = \"stylesheet\";\n",
       "      element.type = \"text/css\";\n",
       "      element.href = url;\n",
       "      console.debug(\"Bokeh: injecting link tag for BokehJS stylesheet: \", url);\n",
       "      document.body.appendChild(element);\n",
       "    }\n",
       "\n",
       "    for (let i = 0; i < js_urls.length; i++) {\n",
       "      const url = js_urls[i];\n",
       "      const element = document.createElement('script');\n",
       "      element.onload = on_load;\n",
       "      element.onerror = on_error.bind(null, url);\n",
       "      element.async = false;\n",
       "      element.src = url;\n",
       "      console.debug(\"Bokeh: injecting script tag for BokehJS library: \", url);\n",
       "      document.head.appendChild(element);\n",
       "    }\n",
       "  };\n",
       "\n",
       "  function inject_raw_css(css) {\n",
       "    const element = document.createElement(\"style\");\n",
       "    element.appendChild(document.createTextNode(css));\n",
       "    document.body.appendChild(element);\n",
       "  }\n",
       "\n",
       "  \n",
       "  const js_urls = [\"https://cdn.bokeh.org/bokeh/release/bokeh-2.4.2.min.js\", \"https://cdn.bokeh.org/bokeh/release/bokeh-gl-2.4.2.min.js\", \"https://cdn.bokeh.org/bokeh/release/bokeh-widgets-2.4.2.min.js\", \"https://cdn.bokeh.org/bokeh/release/bokeh-tables-2.4.2.min.js\", \"https://cdn.bokeh.org/bokeh/release/bokeh-mathjax-2.4.2.min.js\"];\n",
       "  const css_urls = [];\n",
       "  \n",
       "\n",
       "  const inline_js = [\n",
       "    function(Bokeh) {\n",
       "      Bokeh.set_log_level(\"info\");\n",
       "    },\n",
       "    function(Bokeh) {\n",
       "    \n",
       "    \n",
       "    }\n",
       "  ];\n",
       "\n",
       "  function run_inline_js() {\n",
       "    \n",
       "    if (root.Bokeh !== undefined || force === true) {\n",
       "      \n",
       "    for (let i = 0; i < inline_js.length; i++) {\n",
       "      inline_js[i].call(root, root.Bokeh);\n",
       "    }\n",
       "    if (force === true) {\n",
       "        display_loaded();\n",
       "      }} else if (Date.now() < root._bokeh_timeout) {\n",
       "      setTimeout(run_inline_js, 100);\n",
       "    } else if (!root._bokeh_failed_load) {\n",
       "      console.log(\"Bokeh: BokehJS failed to load within specified timeout.\");\n",
       "      root._bokeh_failed_load = true;\n",
       "    } else if (force !== true) {\n",
       "      const cell = $(document.getElementById(\"2024\")).parents('.cell').data().cell;\n",
       "      cell.output_area.append_execute_result(NB_LOAD_WARNING)\n",
       "    }\n",
       "\n",
       "  }\n",
       "\n",
       "  if (root._bokeh_is_loading === 0) {\n",
       "    console.debug(\"Bokeh: BokehJS loaded, going straight to plotting\");\n",
       "    run_inline_js();\n",
       "  } else {\n",
       "    load_libs(css_urls, js_urls, function() {\n",
       "      console.debug(\"Bokeh: BokehJS plotting callback run at\", now());\n",
       "      run_inline_js();\n",
       "    });\n",
       "  }\n",
       "}(window));"
      ],
      "application/vnd.bokehjs_load.v0+json": "\n(function(root) {\n  function now() {\n    return new Date();\n  }\n\n  const force = true;\n\n  if (typeof root._bokeh_onload_callbacks === \"undefined\" || force === true) {\n    root._bokeh_onload_callbacks = [];\n    root._bokeh_is_loading = undefined;\n  }\n\n  \n\n  \n  if (typeof (root._bokeh_timeout) === \"undefined\" || force === true) {\n    root._bokeh_timeout = Date.now() + 5000;\n    root._bokeh_failed_load = false;\n  }\n\n  const NB_LOAD_WARNING = {'data': {'text/html':\n     \"<div style='background-color: #fdd'>\\n\"+\n     \"<p>\\n\"+\n     \"BokehJS does not appear to have successfully loaded. If loading BokehJS from CDN, this \\n\"+\n     \"may be due to a slow or bad network connection. Possible fixes:\\n\"+\n     \"</p>\\n\"+\n     \"<ul>\\n\"+\n     \"<li>re-rerun `output_notebook()` to attempt to load from CDN again, or</li>\\n\"+\n     \"<li>use INLINE resources instead, as so:</li>\\n\"+\n     \"</ul>\\n\"+\n     \"<code>\\n\"+\n     \"from bokeh.resources import INLINE\\n\"+\n     \"output_notebook(resources=INLINE)\\n\"+\n     \"</code>\\n\"+\n     \"</div>\"}};\n\n  function display_loaded() {\n    const el = document.getElementById(\"2024\");\n    if (el != null) {\n      el.textContent = \"BokehJS is loading...\";\n    }\n    if (root.Bokeh !== undefined) {\n      if (el != null) {\n        el.textContent = \"BokehJS \" + root.Bokeh.version + \" successfully loaded.\";\n      }\n    } else if (Date.now() < root._bokeh_timeout) {\n      setTimeout(display_loaded, 100)\n    }\n  }\n\n\n  function run_callbacks() {\n    try {\n      root._bokeh_onload_callbacks.forEach(function(callback) {\n        if (callback != null)\n          callback();\n      });\n    } finally {\n      delete root._bokeh_onload_callbacks\n    }\n    console.debug(\"Bokeh: all callbacks have finished\");\n  }\n\n  function load_libs(css_urls, js_urls, callback) {\n    if (css_urls == null) css_urls = [];\n    if (js_urls == null) js_urls = [];\n\n    root._bokeh_onload_callbacks.push(callback);\n    if (root._bokeh_is_loading > 0) {\n      console.debug(\"Bokeh: BokehJS is being loaded, scheduling callback at\", now());\n      return null;\n    }\n    if (js_urls == null || js_urls.length === 0) {\n      run_callbacks();\n      return null;\n    }\n    console.debug(\"Bokeh: BokehJS not loaded, scheduling load and callback at\", now());\n    root._bokeh_is_loading = css_urls.length + js_urls.length;\n\n    function on_load() {\n      root._bokeh_is_loading--;\n      if (root._bokeh_is_loading === 0) {\n        console.debug(\"Bokeh: all BokehJS libraries/stylesheets loaded\");\n        run_callbacks()\n      }\n    }\n\n    function on_error(url) {\n      console.error(\"failed to load \" + url);\n    }\n\n    for (let i = 0; i < css_urls.length; i++) {\n      const url = css_urls[i];\n      const element = document.createElement(\"link\");\n      element.onload = on_load;\n      element.onerror = on_error.bind(null, url);\n      element.rel = \"stylesheet\";\n      element.type = \"text/css\";\n      element.href = url;\n      console.debug(\"Bokeh: injecting link tag for BokehJS stylesheet: \", url);\n      document.body.appendChild(element);\n    }\n\n    for (let i = 0; i < js_urls.length; i++) {\n      const url = js_urls[i];\n      const element = document.createElement('script');\n      element.onload = on_load;\n      element.onerror = on_error.bind(null, url);\n      element.async = false;\n      element.src = url;\n      console.debug(\"Bokeh: injecting script tag for BokehJS library: \", url);\n      document.head.appendChild(element);\n    }\n  };\n\n  function inject_raw_css(css) {\n    const element = document.createElement(\"style\");\n    element.appendChild(document.createTextNode(css));\n    document.body.appendChild(element);\n  }\n\n  \n  const js_urls = [\"https://cdn.bokeh.org/bokeh/release/bokeh-2.4.2.min.js\", \"https://cdn.bokeh.org/bokeh/release/bokeh-gl-2.4.2.min.js\", \"https://cdn.bokeh.org/bokeh/release/bokeh-widgets-2.4.2.min.js\", \"https://cdn.bokeh.org/bokeh/release/bokeh-tables-2.4.2.min.js\", \"https://cdn.bokeh.org/bokeh/release/bokeh-mathjax-2.4.2.min.js\"];\n  const css_urls = [];\n  \n\n  const inline_js = [\n    function(Bokeh) {\n      Bokeh.set_log_level(\"info\");\n    },\n    function(Bokeh) {\n    \n    \n    }\n  ];\n\n  function run_inline_js() {\n    \n    if (root.Bokeh !== undefined || force === true) {\n      \n    for (let i = 0; i < inline_js.length; i++) {\n      inline_js[i].call(root, root.Bokeh);\n    }\n    if (force === true) {\n        display_loaded();\n      }} else if (Date.now() < root._bokeh_timeout) {\n      setTimeout(run_inline_js, 100);\n    } else if (!root._bokeh_failed_load) {\n      console.log(\"Bokeh: BokehJS failed to load within specified timeout.\");\n      root._bokeh_failed_load = true;\n    } else if (force !== true) {\n      const cell = $(document.getElementById(\"2024\")).parents('.cell').data().cell;\n      cell.output_area.append_execute_result(NB_LOAD_WARNING)\n    }\n\n  }\n\n  if (root._bokeh_is_loading === 0) {\n    console.debug(\"Bokeh: BokehJS loaded, going straight to plotting\");\n    run_inline_js();\n  } else {\n    load_libs(css_urls, js_urls, function() {\n      console.debug(\"Bokeh: BokehJS plotting callback run at\", now());\n      run_inline_js();\n    });\n  }\n}(window));"
     },
     "metadata": {},
     "output_type": "display_data"
    },
    {
     "data": {
      "text/html": [
       "\n",
       "\n",
       "\n",
       "\n",
       "\n",
       "\n",
       "  <div class=\"bk-root\" id=\"988a21d2-5e7c-4918-9147-975c455dac33\" data-root-id=\"2027\"></div>\n"
      ]
     },
     "metadata": {},
     "output_type": "display_data"
    },
    {
     "data": {
      "application/javascript": [
       "(function(root) {\n",
       "  function embed_document(root) {\n",
       "    \n",
       "  const docs_json = {\"984a9487-d3dd-46d8-bdf9-7fa679308e13\":{\"defs\":[],\"roots\":{\"references\":[{\"attributes\":{\"below\":[{\"id\":\"2038\"}],\"center\":[{\"id\":\"2041\"},{\"id\":\"2045\"}],\"left\":[{\"id\":\"2042\"}],\"renderers\":[{\"id\":\"2062\"}],\"title\":{\"id\":\"2028\"},\"toolbar\":{\"id\":\"2052\"},\"width\":900,\"x_range\":{\"id\":\"2030\"},\"x_scale\":{\"id\":\"2034\"},\"y_range\":{\"id\":\"2032\"},\"y_scale\":{\"id\":\"2036\"}},\"id\":\"2027\",\"subtype\":\"Figure\",\"type\":\"Plot\"},{\"attributes\":{},\"id\":\"2066\",\"type\":\"BasicTickFormatter\"},{\"attributes\":{},\"id\":\"2067\",\"type\":\"AllLabels\"},{\"attributes\":{},\"id\":\"2069\",\"type\":\"BasicTickFormatter\"},{\"attributes\":{\"tools\":[{\"id\":\"2046\"},{\"id\":\"2047\"},{\"id\":\"2048\"},{\"id\":\"2049\"},{\"id\":\"2050\"}]},\"id\":\"2052\",\"type\":\"Toolbar\"},{\"attributes\":{\"align\":\"center\",\"coordinates\":null,\"group\":null,\"text\":\"Temperature-Density Relationship for Water\"},\"id\":\"2028\",\"type\":\"Title\"},{\"attributes\":{},\"id\":\"2070\",\"type\":\"AllLabels\"},{\"attributes\":{},\"id\":\"2030\",\"type\":\"DataRange1d\"},{\"attributes\":{},\"id\":\"2034\",\"type\":\"LinearScale\"},{\"attributes\":{},\"id\":\"2036\",\"type\":\"LinearScale\"},{\"attributes\":{\"line_color\":\"#1f77b4\",\"line_width\":6,\"x\":{\"field\":\"x\"},\"y\":{\"field\":\"y\"}},\"id\":\"2059\",\"type\":\"Line\"},{\"attributes\":{\"bottom_units\":\"screen\",\"coordinates\":null,\"fill_alpha\":0.5,\"fill_color\":\"lightgrey\",\"group\":null,\"left_units\":\"screen\",\"level\":\"overlay\",\"line_alpha\":1.0,\"line_color\":\"black\",\"line_dash\":[4,4],\"line_width\":2,\"right_units\":\"screen\",\"syncable\":false,\"top_units\":\"screen\"},\"id\":\"2051\",\"type\":\"BoxAnnotation\"},{\"attributes\":{},\"id\":\"2032\",\"type\":\"DataRange1d\"},{\"attributes\":{\"text\":\"Temperature \\\\: ^oC\"},\"id\":\"2025\",\"type\":\"TeX\"},{\"attributes\":{\"axis\":{\"id\":\"2042\"},\"coordinates\":null,\"dimension\":1,\"group\":null,\"ticker\":null},\"id\":\"2045\",\"type\":\"Grid\"},{\"attributes\":{\"axis_label\":{\"id\":\"2025\"},\"coordinates\":null,\"formatter\":{\"id\":\"2069\"},\"group\":null,\"major_label_policy\":{\"id\":\"2070\"},\"ticker\":{\"id\":\"2039\"}},\"id\":\"2038\",\"type\":\"LinearAxis\"},{\"attributes\":{\"source\":{\"id\":\"2058\"}},\"id\":\"2063\",\"type\":\"CDSView\"},{\"attributes\":{},\"id\":\"2071\",\"type\":\"UnionRenderers\"},{\"attributes\":{\"text\":\"Density \\\\: of \\\\: Water \\\\: (kg/m^3)\"},\"id\":\"2026\",\"type\":\"TeX\"},{\"attributes\":{\"callback\":null,\"tooltips\":[[\"Temp(C)\",\"$x\"],[\"Density\",\"$y\"]]},\"id\":\"2046\",\"type\":\"HoverTool\"},{\"attributes\":{},\"id\":\"2072\",\"type\":\"Selection\"},{\"attributes\":{\"axis_label\":{\"id\":\"2026\"},\"coordinates\":null,\"formatter\":{\"id\":\"2066\"},\"group\":null,\"major_label_policy\":{\"id\":\"2067\"},\"ticker\":{\"id\":\"2043\"}},\"id\":\"2042\",\"type\":\"LinearAxis\"},{\"attributes\":{},\"id\":\"2039\",\"type\":\"BasicTicker\"},{\"attributes\":{\"axis\":{\"id\":\"2038\"},\"coordinates\":null,\"group\":null,\"ticker\":null},\"id\":\"2041\",\"type\":\"Grid\"},{\"attributes\":{\"overlay\":{\"id\":\"2051\"}},\"id\":\"2047\",\"type\":\"BoxZoomTool\"},{\"attributes\":{\"coordinates\":null,\"data_source\":{\"id\":\"2058\"},\"glyph\":{\"id\":\"2059\"},\"group\":null,\"hover_glyph\":null,\"muted_glyph\":{\"id\":\"2061\"},\"nonselection_glyph\":{\"id\":\"2060\"},\"view\":{\"id\":\"2063\"}},\"id\":\"2062\",\"type\":\"GlyphRenderer\"},{\"attributes\":{},\"id\":\"2043\",\"type\":\"BasicTicker\"},{\"attributes\":{},\"id\":\"2048\",\"type\":\"UndoTool\"},{\"attributes\":{},\"id\":\"2049\",\"type\":\"WheelZoomTool\"},{\"attributes\":{},\"id\":\"2050\",\"type\":\"ResetTool\"},{\"attributes\":{\"data\":{\"x\":{\"__ndarray__\":\"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\",\"dtype\":\"float64\",\"order\":\"little\",\"shape\":[500]},\"y\":{\"__ndarray__\":\"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\",\"dtype\":\"float64\",\"order\":\"little\",\"shape\":[500]}},\"selected\":{\"id\":\"2072\"},\"selection_policy\":{\"id\":\"2071\"}},\"id\":\"2058\",\"type\":\"ColumnDataSource\"},{\"attributes\":{\"line_alpha\":0.2,\"line_color\":\"#1f77b4\",\"line_width\":6,\"x\":{\"field\":\"x\"},\"y\":{\"field\":\"y\"}},\"id\":\"2061\",\"type\":\"Line\"},{\"attributes\":{\"line_alpha\":0.1,\"line_color\":\"#1f77b4\",\"line_width\":6,\"x\":{\"field\":\"x\"},\"y\":{\"field\":\"y\"}},\"id\":\"2060\",\"type\":\"Line\"}],\"root_ids\":[\"2027\"]},\"title\":\"Bokeh Application\",\"version\":\"2.4.2\"}};\n",
       "  const render_items = [{\"docid\":\"984a9487-d3dd-46d8-bdf9-7fa679308e13\",\"root_ids\":[\"2027\"],\"roots\":{\"2027\":\"988a21d2-5e7c-4918-9147-975c455dac33\"}}];\n",
       "  root.Bokeh.embed.embed_items_notebook(docs_json, render_items);\n",
       "\n",
       "  }\n",
       "  if (root.Bokeh !== undefined) {\n",
       "    embed_document(root);\n",
       "  } else {\n",
       "    let attempts = 0;\n",
       "    const timer = setInterval(function(root) {\n",
       "      if (root.Bokeh !== undefined) {\n",
       "        clearInterval(timer);\n",
       "        embed_document(root);\n",
       "      } else {\n",
       "        attempts++;\n",
       "        if (attempts > 100) {\n",
       "          clearInterval(timer);\n",
       "          console.log(\"Bokeh: ERROR: Unable to run BokehJS code because BokehJS library is missing\");\n",
       "        }\n",
       "      }\n",
       "    }, 10, root)\n",
       "  }\n",
       "})(window);"
      ],
      "application/vnd.bokehjs_exec.v0+json": ""
     },
     "metadata": {
      "application/vnd.bokehjs_exec.v0+json": {
       "id": "2027"
      }
     },
     "output_type": "display_data"
    }
   ],
   "source": [
    "# Make an interactive plot\n",
    "from bokeh.io import output_notebook, show\n",
    "from bokeh.plotting import figure\n",
    "from bokeh.models import HoverTool\n",
    "from bokeh.models import Div, TeX\n",
    "output_notebook()\n",
    "tools = \"hover, box_zoom, undo,wheel_zoom,reset\"\n",
    "p = figure(tools=tools,\n",
    "          title='Temperature-Density Relationship for Water',\n",
    "          x_axis_label=TeX(r'Temperature \\: ^oC'),y_axis_label=TeX(r'Density \\: of \\: Water \\: (kg/m^3)'),\n",
    "          plot_width = 900)\n",
    "p.line(t, rhot, alpha=1,width=6)\n",
    "hover = p.select(dict(type=HoverTool))\n",
    "hover.tooltips = [\n",
    "    (\"Temp(C)\", \"$x\"),\n",
    "    (\"Density\", \"$y\"),\n",
    "    ]\n",
    "p.title.align = 'center'\n",
    "show(p)"
   ]
  },
  {
   "cell_type": "code",
   "execution_count": 15,
   "id": "b49421be",
   "metadata": {
    "extensions": {
     "jupyter_dashboards": {
      "version": 1,
      "views": {
       "grid_default": {},
       "report_default": {
        "hidden": false
       }
      }
     }
    }
   },
   "outputs": [
    {
     "data": {
      "application/vnd.jupyter.widget-view+json": {
       "model_id": "4434e035590d4e038bd63c4c28dfdd54",
       "version_major": 2,
       "version_minor": 0
      },
      "text/plain": [
       "interactive(children=(FloatSlider(value=20.0, description='Temp'), Output()), _dom_classes=('widget-interact',…"
      ]
     },
     "metadata": {},
     "output_type": "display_data"
    }
   ],
   "source": [
    "# Add a Widget to get density corresponding to a temperature\n",
    "import ipywidgets as widget\n",
    "widget.interact(denstemp, Temp = widget.FloatSlider(min=0, max=100, step=0.1, value=20));"
   ]
  },
  {
   "cell_type": "markdown",
   "id": "7ffbbf4f",
   "metadata": {
    "extensions": {
     "jupyter_dashboards": {
      "version": 1,
      "views": {
       "grid_default": {},
       "report_default": {
        "hidden": false
       }
      }
     }
    }
   },
   "source": [
    "<h4> References </h4>"
   ]
  },
  {
   "cell_type": "markdown",
   "id": "f2f9be6a",
   "metadata": {
    "extensions": {
     "jupyter_dashboards": {
      "version": 1,
      "views": {
       "grid_default": {
        "hidden": true
       },
       "report_default": {
        "hidden": true
       }
      }
     }
    }
   },
   "source": [
    "<a name=\"kell\"></a> Kell, G.S., 1975. Density, thermal expansivity, and compressibility of liquid water from 0. deg. to 150. deg.. Correlations and tables for atmospheric pressure and saturation reviewed and expressed on 1968 temperature scale. Journal of Chemical and Engineering data, 20(1), pp.97-105"
   ]
  },
  {
   "cell_type": "code",
   "execution_count": null,
   "id": "eb8585d0",
   "metadata": {},
   "outputs": [],
   "source": []
  },
  {
   "cell_type": "code",
   "execution_count": null,
   "id": "aab1e28a",
   "metadata": {},
   "outputs": [],
   "source": []
  }
 ],
 "metadata": {
  "extensions": {
   "jupyter_dashboards": {
    "activeView": "report_default",
    "version": 1,
    "views": {
     "grid_default": {
      "name": "grid",
      "type": "grid"
     },
     "report_default": {
      "name": "report",
      "type": "report"
     }
    }
   }
  },
  "kernelspec": {
   "display_name": "Python 3 (ipykernel)",
   "language": "python",
   "name": "python3"
  },
  "language_info": {
   "codemirror_mode": {
    "name": "ipython",
    "version": 3
   },
   "file_extension": ".py",
   "mimetype": "text/x-python",
   "name": "python",
   "nbconvert_exporter": "python",
   "pygments_lexer": "ipython3",
   "version": "3.8.10"
  }
 },
 "nbformat": 4,
 "nbformat_minor": 5
}
